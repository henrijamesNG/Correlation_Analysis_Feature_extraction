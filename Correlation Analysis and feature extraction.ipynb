{
 "cells": [
  {
   "cell_type": "markdown",
   "metadata": {},
   "source": [
    "# Correlation analysis and feature combining to target a country's scientific output"
   ]
  },
  {
   "cell_type": "markdown",
   "metadata": {},
   "source": [
    "In this notebook, I'm striving to **build combined features** as correlated as possible with a particular target. To do so, I will first analyze correlation coefficients between features in the raw data space and then apply dimensionality reduction techniques such as **Principal Component Analysis (PCA) and Canonical Correlation Analysis (CCA)** to extract new combined features.\n",
    "\n",
    "The final dataset (after cleaning and merging operations),  contains for each country: its  energy indicators (Energy Supply, % Renewable,...), its GDP and some statistics regarding energy-related documents that have been published by this country. In these statistics, there are the amount of released documents in Energy, the amount of citations that those documents have been subject to... The **amount of documents** is what we will target in a first place.\n",
    "\n",
    "\n",
    "**Datasets** : \n",
    "- Statistics on Energy-related documents published by each country for the year 2013 from the [Sciamgo Journal and Country Rank data for Energy Engineering and Power Technology](http://www.scimagojr.com/countryrank.php?category=2102) and under the file `scimagojr-3.xlsx`.\n",
    "\n",
    "The columns here are :\n",
    "\n",
    "    - Documents: Number of documents published during 2013. It is usually called the country's scientific output.\n",
    "    - Citable Documents: Selected year citable documents. Exclusively articles, reviews and conference papers considered.\n",
    "    - Citations: Number of citations by the documents published during 2013. citations in years 2013, 2014, 2015...\n",
    "    - Citations per Document: Average citations per document published during 2013\n",
    "    - Self Citations: Country self-citations: Number of self-citations \n",
    "    - H index: Country's number of articles (h) that have received at least h citations. It quantifies both country scienti- fic productivity and scientific impact and it is also applicable to scientists, journals, etc\n",
    "\n",
    "\n",
    "- `Energy Indicators.xls`, is a list of indicators of energy supply and renewable electricity production for +150 countries from the [United Nations](http://unstats.un.org/unsd/environment/excel_file_tables/2013/Energy%20Indicators.xls) for the year 2013\n",
    "\n",
    "- GDP data from the file `world_bank.csv`, which is a csv containing countries' GDP from 1960 to 2015 from [World Bank](http://data.worldbank.org/indicator/NY.GDP.MKTP.CD). We will be interested by GDPs for the year 2013.\n",
    "\n"
   ]
  },
  {
   "cell_type": "code",
   "execution_count": 291,
   "metadata": {},
   "outputs": [],
   "source": [
    "import pandas as pd\n",
    "import numpy as np\n",
    "import matplotlib.pyplot as plt\n",
    "import seaborn as sns\n",
    "from sklearn.preprocessing import StandardScaler, MinMaxScaler\n",
    "from sklearn.cross_decomposition import CCA\n",
    "from sklearn.decomposition import PCA\n",
    "from scipy.stats import pearsonr\n",
    "%matplotlib inline"
   ]
  },
  {
   "cell_type": "markdown",
   "metadata": {},
   "source": [
    "## Loading and preparing the data"
   ]
  },
  {
   "cell_type": "code",
   "execution_count": 92,
   "metadata": {},
   "outputs": [
    {
     "data": {
      "text/html": [
       "<div>\n",
       "<style scoped>\n",
       "    .dataframe tbody tr th:only-of-type {\n",
       "        vertical-align: middle;\n",
       "    }\n",
       "\n",
       "    .dataframe tbody tr th {\n",
       "        vertical-align: top;\n",
       "    }\n",
       "\n",
       "    .dataframe thead th {\n",
       "        text-align: right;\n",
       "    }\n",
       "</style>\n",
       "<table border=\"1\" class=\"dataframe\">\n",
       "  <thead>\n",
       "    <tr style=\"text-align: right;\">\n",
       "      <th></th>\n",
       "      <th>Rank</th>\n",
       "      <th>Documents</th>\n",
       "      <th>Citable documents</th>\n",
       "      <th>Citations</th>\n",
       "      <th>Self-citations</th>\n",
       "      <th>Citations per document</th>\n",
       "      <th>H index</th>\n",
       "    </tr>\n",
       "    <tr>\n",
       "      <th>Country</th>\n",
       "      <th></th>\n",
       "      <th></th>\n",
       "      <th></th>\n",
       "      <th></th>\n",
       "      <th></th>\n",
       "      <th></th>\n",
       "      <th></th>\n",
       "    </tr>\n",
       "  </thead>\n",
       "  <tbody>\n",
       "    <tr>\n",
       "      <th>China</th>\n",
       "      <td>1</td>\n",
       "      <td>127050</td>\n",
       "      <td>126767</td>\n",
       "      <td>597237</td>\n",
       "      <td>411683</td>\n",
       "      <td>4.70</td>\n",
       "      <td>138</td>\n",
       "    </tr>\n",
       "    <tr>\n",
       "      <th>United States</th>\n",
       "      <td>2</td>\n",
       "      <td>96661</td>\n",
       "      <td>94747</td>\n",
       "      <td>792274</td>\n",
       "      <td>265436</td>\n",
       "      <td>8.20</td>\n",
       "      <td>230</td>\n",
       "    </tr>\n",
       "    <tr>\n",
       "      <th>Japan</th>\n",
       "      <td>3</td>\n",
       "      <td>30504</td>\n",
       "      <td>30287</td>\n",
       "      <td>223024</td>\n",
       "      <td>61554</td>\n",
       "      <td>7.31</td>\n",
       "      <td>134</td>\n",
       "    </tr>\n",
       "    <tr>\n",
       "      <th>United Kingdom</th>\n",
       "      <td>4</td>\n",
       "      <td>20944</td>\n",
       "      <td>20357</td>\n",
       "      <td>206091</td>\n",
       "      <td>37874</td>\n",
       "      <td>9.84</td>\n",
       "      <td>139</td>\n",
       "    </tr>\n",
       "    <tr>\n",
       "      <th>Russian Federation</th>\n",
       "      <td>5</td>\n",
       "      <td>18534</td>\n",
       "      <td>18301</td>\n",
       "      <td>34266</td>\n",
       "      <td>12422</td>\n",
       "      <td>1.85</td>\n",
       "      <td>57</td>\n",
       "    </tr>\n",
       "  </tbody>\n",
       "</table>\n",
       "</div>"
      ],
      "text/plain": [
       "                    Rank  Documents  Citable documents  Citations  \\\n",
       "Country                                                             \n",
       "China                  1     127050             126767     597237   \n",
       "United States          2      96661              94747     792274   \n",
       "Japan                  3      30504              30287     223024   \n",
       "United Kingdom         4      20944              20357     206091   \n",
       "Russian Federation     5      18534              18301      34266   \n",
       "\n",
       "                    Self-citations  Citations per document  H index  \n",
       "Country                                                              \n",
       "China                       411683                    4.70      138  \n",
       "United States               265436                    8.20      230  \n",
       "Japan                        61554                    7.31      134  \n",
       "United Kingdom               37874                    9.84      139  \n",
       "Russian Federation           12422                    1.85       57  "
      ]
     },
     "execution_count": 92,
     "metadata": {},
     "output_type": "execute_result"
    }
   ],
   "source": [
    "Publications_per_country = pd.read_excel('scimagojr-3.xlsx').set_index(\"Country\")\n",
    "Publications_per_country.head()"
   ]
  },
  {
   "cell_type": "code",
   "execution_count": 93,
   "metadata": {},
   "outputs": [
    {
     "data": {
      "text/html": [
       "<div>\n",
       "<style scoped>\n",
       "    .dataframe tbody tr th:only-of-type {\n",
       "        vertical-align: middle;\n",
       "    }\n",
       "\n",
       "    .dataframe tbody tr th {\n",
       "        vertical-align: top;\n",
       "    }\n",
       "\n",
       "    .dataframe thead th {\n",
       "        text-align: right;\n",
       "    }\n",
       "</style>\n",
       "<table border=\"1\" class=\"dataframe\">\n",
       "  <thead>\n",
       "    <tr style=\"text-align: right;\">\n",
       "      <th></th>\n",
       "      <th>Country Name</th>\n",
       "      <th>Country Code</th>\n",
       "      <th>Indicator Name</th>\n",
       "      <th>Indicator Code</th>\n",
       "      <th>1960</th>\n",
       "      <th>1961</th>\n",
       "      <th>1962</th>\n",
       "      <th>1963</th>\n",
       "      <th>1964</th>\n",
       "      <th>1965</th>\n",
       "      <th>...</th>\n",
       "      <th>2006</th>\n",
       "      <th>2007</th>\n",
       "      <th>2008</th>\n",
       "      <th>2009</th>\n",
       "      <th>2010</th>\n",
       "      <th>2011</th>\n",
       "      <th>2012</th>\n",
       "      <th>2013</th>\n",
       "      <th>2014</th>\n",
       "      <th>2015</th>\n",
       "    </tr>\n",
       "  </thead>\n",
       "  <tbody>\n",
       "    <tr>\n",
       "      <th>0</th>\n",
       "      <td>Aruba</td>\n",
       "      <td>ABW</td>\n",
       "      <td>GDP at market prices (constant 2010 US$)</td>\n",
       "      <td>NY.GDP.MKTP.KD</td>\n",
       "      <td>NaN</td>\n",
       "      <td>NaN</td>\n",
       "      <td>NaN</td>\n",
       "      <td>NaN</td>\n",
       "      <td>NaN</td>\n",
       "      <td>NaN</td>\n",
       "      <td>...</td>\n",
       "      <td>NaN</td>\n",
       "      <td>NaN</td>\n",
       "      <td>NaN</td>\n",
       "      <td>NaN</td>\n",
       "      <td>2.467704e+09</td>\n",
       "      <td>NaN</td>\n",
       "      <td>NaN</td>\n",
       "      <td>NaN</td>\n",
       "      <td>NaN</td>\n",
       "      <td>NaN</td>\n",
       "    </tr>\n",
       "    <tr>\n",
       "      <th>1</th>\n",
       "      <td>Andorra</td>\n",
       "      <td>AND</td>\n",
       "      <td>GDP at market prices (constant 2010 US$)</td>\n",
       "      <td>NY.GDP.MKTP.KD</td>\n",
       "      <td>NaN</td>\n",
       "      <td>NaN</td>\n",
       "      <td>NaN</td>\n",
       "      <td>NaN</td>\n",
       "      <td>NaN</td>\n",
       "      <td>NaN</td>\n",
       "      <td>...</td>\n",
       "      <td>4.018196e+09</td>\n",
       "      <td>4.021331e+09</td>\n",
       "      <td>3.675728e+09</td>\n",
       "      <td>3.535389e+09</td>\n",
       "      <td>3.346317e+09</td>\n",
       "      <td>3.185605e+09</td>\n",
       "      <td>3.129538e+09</td>\n",
       "      <td>3.127550e+09</td>\n",
       "      <td>NaN</td>\n",
       "      <td>NaN</td>\n",
       "    </tr>\n",
       "  </tbody>\n",
       "</table>\n",
       "<p>2 rows × 60 columns</p>\n",
       "</div>"
      ],
      "text/plain": [
       "  Country Name Country Code                            Indicator Name  \\\n",
       "0        Aruba          ABW  GDP at market prices (constant 2010 US$)   \n",
       "1      Andorra          AND  GDP at market prices (constant 2010 US$)   \n",
       "\n",
       "   Indicator Code  1960  1961  1962  1963  1964  1965  ...          2006  \\\n",
       "0  NY.GDP.MKTP.KD   NaN   NaN   NaN   NaN   NaN   NaN  ...           NaN   \n",
       "1  NY.GDP.MKTP.KD   NaN   NaN   NaN   NaN   NaN   NaN  ...  4.018196e+09   \n",
       "\n",
       "           2007          2008          2009          2010          2011  \\\n",
       "0           NaN           NaN           NaN  2.467704e+09           NaN   \n",
       "1  4.021331e+09  3.675728e+09  3.535389e+09  3.346317e+09  3.185605e+09   \n",
       "\n",
       "           2012          2013  2014  2015  \n",
       "0           NaN           NaN   NaN   NaN  \n",
       "1  3.129538e+09  3.127550e+09   NaN   NaN  \n",
       "\n",
       "[2 rows x 60 columns]"
      ]
     },
     "execution_count": 93,
     "metadata": {},
     "output_type": "execute_result"
    }
   ],
   "source": [
    "GDP = pd.read_csv('world_bank.csv', header=4)\n",
    "GDP.head(2)"
   ]
  },
  {
   "cell_type": "markdown",
   "metadata": {},
   "source": [
    "We only need the `2013`'s Column here as the other datasets contains statistics only on this year"
   ]
  },
  {
   "cell_type": "code",
   "execution_count": 223,
   "metadata": {},
   "outputs": [
    {
     "data": {
      "text/html": [
       "<div>\n",
       "<style scoped>\n",
       "    .dataframe tbody tr th:only-of-type {\n",
       "        vertical-align: middle;\n",
       "    }\n",
       "\n",
       "    .dataframe tbody tr th {\n",
       "        vertical-align: top;\n",
       "    }\n",
       "\n",
       "    .dataframe thead th {\n",
       "        text-align: right;\n",
       "    }\n",
       "</style>\n",
       "<table border=\"1\" class=\"dataframe\">\n",
       "  <thead>\n",
       "    <tr style=\"text-align: right;\">\n",
       "      <th></th>\n",
       "      <th>Unnamed: 0</th>\n",
       "      <th>Unnamed: 1</th>\n",
       "      <th>Unnamed: 2</th>\n",
       "      <th>Petajoules</th>\n",
       "      <th>Gigajoules</th>\n",
       "      <th>%</th>\n",
       "    </tr>\n",
       "  </thead>\n",
       "  <tbody>\n",
       "    <tr>\n",
       "      <th>0</th>\n",
       "      <td>NaN</td>\n",
       "      <td>Afghanistan</td>\n",
       "      <td>Afghanistan</td>\n",
       "      <td>321</td>\n",
       "      <td>10</td>\n",
       "      <td>78.669280</td>\n",
       "    </tr>\n",
       "    <tr>\n",
       "      <th>1</th>\n",
       "      <td>NaN</td>\n",
       "      <td>Albania</td>\n",
       "      <td>Albania</td>\n",
       "      <td>102</td>\n",
       "      <td>35</td>\n",
       "      <td>100.000000</td>\n",
       "    </tr>\n",
       "    <tr>\n",
       "      <th>2</th>\n",
       "      <td>NaN</td>\n",
       "      <td>Algeria</td>\n",
       "      <td>Algeria</td>\n",
       "      <td>1959</td>\n",
       "      <td>51</td>\n",
       "      <td>0.551010</td>\n",
       "    </tr>\n",
       "    <tr>\n",
       "      <th>3</th>\n",
       "      <td>NaN</td>\n",
       "      <td>American Samoa</td>\n",
       "      <td>American Samoa</td>\n",
       "      <td>...</td>\n",
       "      <td>...</td>\n",
       "      <td>0.641026</td>\n",
       "    </tr>\n",
       "    <tr>\n",
       "      <th>4</th>\n",
       "      <td>NaN</td>\n",
       "      <td>Andorra</td>\n",
       "      <td>Andorra</td>\n",
       "      <td>9</td>\n",
       "      <td>121</td>\n",
       "      <td>88.695650</td>\n",
       "    </tr>\n",
       "  </tbody>\n",
       "</table>\n",
       "</div>"
      ],
      "text/plain": [
       "   Unnamed: 0      Unnamed: 1      Unnamed: 2 Petajoules Gigajoules  \\\n",
       "0         NaN     Afghanistan     Afghanistan        321         10   \n",
       "1         NaN         Albania         Albania        102         35   \n",
       "2         NaN         Algeria         Algeria       1959         51   \n",
       "3         NaN  American Samoa  American Samoa        ...        ...   \n",
       "4         NaN         Andorra         Andorra          9        121   \n",
       "\n",
       "            %  \n",
       "0   78.669280  \n",
       "1  100.000000  \n",
       "2    0.551010  \n",
       "3    0.641026  \n",
       "4   88.695650  "
      ]
     },
     "execution_count": 223,
     "metadata": {},
     "output_type": "execute_result"
    }
   ],
   "source": [
    "Energy = pd.read_excel('Energy Indicators.xls', header=17, skipfooter=264-226)\n",
    "Energy.head()"
   ]
  },
  {
   "cell_type": "markdown",
   "metadata": {},
   "source": [
    "`Energy data` is quite messy, let's firstly drop its unnecessary columns.\n",
    "\n",
    "In addition, we must put each country name column under the same format for the three datasets, as we are going to perform a join later to obtain a final dataset."
   ]
  },
  {
   "cell_type": "code",
   "execution_count": 224,
   "metadata": {},
   "outputs": [
    {
     "data": {
      "text/html": [
       "<div>\n",
       "<style scoped>\n",
       "    .dataframe tbody tr th:only-of-type {\n",
       "        vertical-align: middle;\n",
       "    }\n",
       "\n",
       "    .dataframe tbody tr th {\n",
       "        vertical-align: top;\n",
       "    }\n",
       "\n",
       "    .dataframe thead th {\n",
       "        text-align: right;\n",
       "    }\n",
       "</style>\n",
       "<table border=\"1\" class=\"dataframe\">\n",
       "  <thead>\n",
       "    <tr style=\"text-align: right;\">\n",
       "      <th></th>\n",
       "      <th>Energy Supply</th>\n",
       "      <th>Energy Supply per Capita</th>\n",
       "      <th>% Renewable</th>\n",
       "    </tr>\n",
       "    <tr>\n",
       "      <th>Country</th>\n",
       "      <th></th>\n",
       "      <th></th>\n",
       "      <th></th>\n",
       "    </tr>\n",
       "  </thead>\n",
       "  <tbody>\n",
       "    <tr>\n",
       "      <th>Afghanistan</th>\n",
       "      <td>3.210000e+08</td>\n",
       "      <td>10.0</td>\n",
       "      <td>78.669280</td>\n",
       "    </tr>\n",
       "    <tr>\n",
       "      <th>Albania</th>\n",
       "      <td>1.020000e+08</td>\n",
       "      <td>35.0</td>\n",
       "      <td>100.000000</td>\n",
       "    </tr>\n",
       "    <tr>\n",
       "      <th>Algeria</th>\n",
       "      <td>1.959000e+09</td>\n",
       "      <td>51.0</td>\n",
       "      <td>0.551010</td>\n",
       "    </tr>\n",
       "    <tr>\n",
       "      <th>American Samoa</th>\n",
       "      <td>NaN</td>\n",
       "      <td>NaN</td>\n",
       "      <td>0.641026</td>\n",
       "    </tr>\n",
       "    <tr>\n",
       "      <th>Andorra</th>\n",
       "      <td>9.000000e+06</td>\n",
       "      <td>121.0</td>\n",
       "      <td>88.695650</td>\n",
       "    </tr>\n",
       "  </tbody>\n",
       "</table>\n",
       "</div>"
      ],
      "text/plain": [
       "                Energy Supply  Energy Supply per Capita  % Renewable\n",
       "Country                                                             \n",
       "Afghanistan      3.210000e+08                      10.0    78.669280\n",
       "Albania          1.020000e+08                      35.0   100.000000\n",
       "Algeria          1.959000e+09                      51.0     0.551010\n",
       "American Samoa            NaN                       NaN     0.641026\n",
       "Andorra          9.000000e+06                     121.0    88.695650"
      ]
     },
     "execution_count": 224,
     "metadata": {},
     "output_type": "execute_result"
    }
   ],
   "source": [
    "Energy = (Energy\n",
    "          .drop(['Unnamed: 0', 'Unnamed: 1'], axis=1)  # Dropping unnecessary columns\n",
    "          \n",
    "          .rename(columns={'Unnamed: 2':'Country',   # Renaming in a relevant way columns in Energy dataset\n",
    "                       'Petajoules':'Energy Supply',\n",
    "                       'Gigajoules':'Energy Supply per Capita',\n",
    "                       '%':'% Renewable'})\n",
    "          \n",
    "          .replace({\"\\.\\.\\.*\": np.nan,                 # The data contains some \"...\" which are missing values \n",
    "                    \"Republic of Korea\": \"South Korea\",\n",
    "                    \"United States of America\": \"United States\",\n",
    "                    \"United Kingdom of Great Britain and Northern Ireland\": \"United Kingdom\",  # Country column formatting\n",
    "                    \"China, Hong Kong Special Administrative Region\": \"Hong Kong\",\n",
    "                    \"China, Macao Special Administrative Region\": \"Macao\",\n",
    "                    \"United Republic of Tanzania\": \"Tanzania\",\n",
    "                    \" \\(.+\\)\":\"\",\n",
    "                    \"[0-9]{1,2}\":\"\"}, regex=True)\n",
    "          \n",
    "          .set_index(\"Country\")\n",
    "         )\n",
    "\n",
    "\n",
    "# Energy Supply is in Petajoules (1 Million Gigajoules) whereas Energy Supply per Capita is in Gigajoules\n",
    "Energy['Energy Supply'] *= 1000000\n",
    "\n",
    "Energy.head()"
   ]
  },
  {
   "cell_type": "markdown",
   "metadata": {},
   "source": [
    "I used the code below to see if there are still some \"noisy country names\" around. (I simply look at which country names didnt find a match in the join). \n",
    "Once I noticed one, I added it to the list above. Fortunately there weren't too many!"
   ]
  },
  {
   "cell_type": "code",
   "execution_count": 287,
   "metadata": {},
   "outputs": [],
   "source": [
    "# detect = pd.merge(Publications_per_country, Energy, on='Country', how='right')\n",
    "# print(detect[detect['Rank'].isnull()].index)"
   ]
  },
  {
   "cell_type": "markdown",
   "metadata": {},
   "source": [
    "Let's clean GDP's country names too : "
   ]
  },
  {
   "cell_type": "code",
   "execution_count": 97,
   "metadata": {},
   "outputs": [],
   "source": [
    "GDP = (GDP\n",
    "       .rename(columns={'Country Name': 'Country'})\n",
    "       \n",
    "       .replace({\"Korea, Rep.\": \"South Korea\",\n",
    "                 \"Iran, Islamic Rep.\": \"Iran\",\n",
    "                 \"Hong Kong SAR, China\": \"Hong Kong\",\n",
    "                 \"Egypt, Arab Rep.\": \"Egypt\"})\n",
    "       \n",
    "       .set_index(\"Country\")\n",
    "       \n",
    "       [['2013']] # Only 2013's GDPs are needed for our analysis\n",
    "       \n",
    "      )"
   ]
  },
  {
   "cell_type": "markdown",
   "metadata": {},
   "source": [
    "Now we can join the dataset and create some intuitives news features:"
   ]
  },
  {
   "cell_type": "code",
   "execution_count": 235,
   "metadata": {},
   "outputs": [],
   "source": [
    "\n",
    "df = Publications_per_country.join(Energy, how='inner').join(GDP, how='inner') # Joining the three datasets\n",
    "\n",
    "\n",
    "# We are going to find the population of each country by dividing Energy Supply with Energy Supply per Capita\n",
    "\n",
    "df['Population'] = df['Energy Supply'] / df['Energy Supply per Capita']\n",
    "\n",
    "\n",
    "# We can then find the GDP per Capita\n",
    "\n",
    "df['GDP per capita'] = df['2013'] / df['Population']\n",
    "\n",
    "\n",
    "# And the documents published per capita\n",
    "\n",
    "df['Documents per Capita'] = df['Documents'] / df['Population']\n",
    "\n",
    "\n",
    "# Let's rename our columns 2013 to GDP and keep supposedly relevant columns and rows for our analysis\n",
    "\n",
    "df2013 = df.rename(columns={'2013': 'GDP'})[['Documents', 'Documents per Capita', 'Citations',\n",
    "                                             'Citations per document','H index','Population',\n",
    "                                             'Energy Supply', 'Energy Supply per Capita',\n",
    "                                             '% Renewable', 'GDP', 'GDP per capita']]\n",
    "\n",
    "\n",
    "# To have a better quality in our analysis, we keep Countries which generated at least 100 documents\n",
    "\n",
    "df2013 = df2013[df2013['Documents'] >= 100] "
   ]
  },
  {
   "cell_type": "markdown",
   "metadata": {},
   "source": [
    "Our dataset is cleaned and prepared! \n",
    "\n",
    "We would like now to know **what are the most correlated features with the amount of documents**, i.e features that answer \"well\" to the question : When we know the value of this feature for a country, do we have enough information to determine its amount of generated documents?"
   ]
  },
  {
   "cell_type": "markdown",
   "metadata": {},
   "source": [
    "## Correlation Analysis\n",
    "\n",
    "Let's visualize the correlation coefficients between each of the feature and the `number of documents`:\n"
   ]
  },
  {
   "cell_type": "code",
   "execution_count": 251,
   "metadata": {},
   "outputs": [
    {
     "data": {
      "image/png": "[encoded data removed]",
      "text/plain": [
       "<Figure size 1008x288 with 2 Axes>"
      ]
     },
     "metadata": {
      "needs_background": "light"
     },
     "output_type": "display_data"
    }
   ],
   "source": [
    "plt.figure(figsize=(14, 4))\n",
    "\n",
    "# Choosing the columns and the rows of our correlation matrix\n",
    "Doc_columns = ['Documents']\n",
    "Indicators = ['Population', 'Energy Supply','Energy Supply per Capita', '% Renewable', 'GDP', 'GDP per capita']\n",
    "\n",
    "# We can efficient visualize those coefficients using a heatmap\n",
    "sns.heatmap(df2013.corr().loc[Doc_columns, Indicators], annot = True, fmt='.2f', annot_kws={'fontsize' : 15})\n",
    "plt.title(\"Correlation coefs between country's indicators and published documents\", fontsize = 15);"
   ]
  },
  {
   "cell_type": "markdown",
   "metadata": {},
   "source": [
    "`Energy Supply` and `GDP` seems to be the best ones here. They are the country's indicators that have the most information to determine the `amount of documents in Energy` this country has published.\n",
    "But is it really surprising? One can understand that countries with a high GDP generally have bigger markets and interests thus it makes sense that more documents are written by them.\n",
    "\n",
    "Choosing the `number of documents` as a target might not be the best choice if we want to discover something relatively new as **it is clearly not scaled**.\n",
    "\n",
    "The amount of `citations` highly depends on the amount of `documents`, so both will surely behave in the same manner. It seems unwise to choose it as well.\n",
    "\n",
    "We are left with : `Documents per Capita`, `Citations per Document`, `H index`. Let's see their correlation coefficients with previously selected features \n"
   ]
  },
  {
   "cell_type": "code",
   "execution_count": 252,
   "metadata": {},
   "outputs": [
    {
     "data": {
      "image/png": "[encoded data removed]",
      "text/plain": [
       "<Figure size 1008x288 with 2 Axes>"
      ]
     },
     "metadata": {
      "needs_background": "light"
     },
     "output_type": "display_data"
    }
   ],
   "source": [
    "plt.figure(figsize=(14, 4))\n",
    "Doc_columns = ['Documents per Capita', 'Citations per document', 'H index']\n",
    "Indicators = ['H index', 'Population', 'Energy Supply','Energy Supply per Capita', '% Renewable', 'GDP', 'GDP per capita']\n",
    "\n",
    "sns.heatmap(df2013.corr().loc[Doc_columns, Indicators], annot = True, fmt='.2f', annot_kws={'fontsize' : 15})\n",
    "plt.title(\"Correlation coefs between country's indicators and documents-related statistics\", fontsize = 15);"
   ]
  },
  {
   "cell_type": "markdown",
   "metadata": {},
   "source": [
    "`H index` is by definition a combination of these others features so these coefficients attached to him aren't suprising.\n",
    "\n",
    "`Citations per document` doesn't have any highly correlated feature and `Documents per Capita` seems to have a bit more.\n",
    "\n",
    "We will then focus on this last one.\n"
   ]
  },
  {
   "cell_type": "markdown",
   "metadata": {},
   "source": [
    "## Feature extraction\n",
    "\n",
    "Let's see if we can reach a better correlation coefficient by combining the features in the x-axis.\n",
    "\n",
    "`Documents per Capita` has an interesting coefficient with `% renewable` (the percentage of renewable energy in the country's energy supply). This is rather unexpected and this feature **might capture exclusive information**. Let's try to extract a good augmented feature combining `% renewable` with another raw feature.\n",
    "\n",
    "To be sure that features have exclusive information towards each other, we look at their correlation matrix (2nd graph)"
   ]
  },
  {
   "cell_type": "code",
   "execution_count": 257,
   "metadata": {},
   "outputs": [
    {
     "data": {
      "image/png": "[encoded data removed]",
      "text/plain": [
       "<Figure size 864x864 with 4 Axes>"
      ]
     },
     "metadata": {
      "needs_background": "light"
     },
     "output_type": "display_data"
    }
   ],
   "source": [
    "fig, axes = plt.subplots(2, 1, figsize=(12,12))\n",
    "fig.subplots_adjust(hspace=0.8)\n",
    "\n",
    "Doc_columns = ['Documents per Capita', 'Citations per document', 'H index']\n",
    "Indicators = ['Population', 'Energy Supply','Energy Supply per Capita', '% Renewable', 'GDP', 'GDP per capita']\n",
    "\n",
    "sns.heatmap(df2013.corr().loc[Doc_columns, Indicators], annot = True, fmt = '.2f', ax = axes[0])\n",
    "sns.heatmap(df2013.corr().loc[Indicators, Indicators], annot = True, fmt = '.2f', ax = axes[1])\n",
    "\n",
    "axes[1].set_title(\"Correlation matrix of Country's indicators\", fontsize = 14)\n",
    "axes[0].set_title(\"Correlation coefs between country's indicators and documents-related statistics\", fontsize = 14);"
   ]
  },
  {
   "cell_type": "markdown",
   "metadata": {},
   "source": [
    "This shows us straightaway that some combination of features (those where features to combine themselves are correlated towards each other) are pointless.\n",
    "\n",
    "However, if we look closely at the coefficient between `% Renewable` and `Energy Supply per Capita`, it is quite small but have relatively good coefs with `Documents per Capita`. It seems like a good candidate for a combination.\n",
    "\n",
    "\n",
    "We can use **PCA (with one component)** to find the direction such that once the two features are projected on it, the waste of information due to this compression is minimized."
   ]
  },
  {
   "cell_type": "markdown",
   "metadata": {},
   "source": [
    "Let's define now the function **Coef_combined_feature** that will take as input the features to combine, apply PCA and return the correlation coefficient between the new feature and Documents per Capita."
   ]
  },
  {
   "cell_type": "code",
   "execution_count": 266,
   "metadata": {},
   "outputs": [],
   "source": [
    "def Coef_combined_feature(Raw_features):\n",
    "\n",
    "    # We scale first the data to allow the pca to find the direction oh highest variance effectively\n",
    "    # Features will now be scaled with 0 mean and unit variance\n",
    "\n",
    "    scaled = StandardScaler().fit_transform(Raw_features)\n",
    "\n",
    "    pca = PCA(n_components=1).fit(scaled) # We have now this direction\n",
    "\n",
    "    # Our new feature by projecting our data on this direction\n",
    "    New_feature = pca.transform(scaled)\n",
    "\n",
    "    #Let's return its correlation with \"Documents per capita\"\n",
    "    return pearsonr(New_feature.reshape(len(New_feature)), df2013['Documents per Capita'])[0]    \n"
   ]
  },
  {
   "cell_type": "markdown",
   "metadata": {},
   "source": [
    "####  PCA with `Energy Supply per Capita` and `% Renewable`"
   ]
  },
  {
   "cell_type": "code",
   "execution_count": 267,
   "metadata": {},
   "outputs": [
    {
     "data": {
      "text/plain": [
       "0.5048689131903583"
      ]
     },
     "execution_count": 267,
     "metadata": {},
     "output_type": "execute_result"
    }
   ],
   "source": [
    "Coef_combined_feature(df2013[['% Renewable', 'Energy Supply per Capita']])"
   ]
  },
  {
   "cell_type": "markdown",
   "metadata": {},
   "source": [
    "Much better now than coefs of both of these individual features!! We see that from supposedly \"weak\" predictors, we can build a stronger one. What if we add for example, `GDP` ??"
   ]
  },
  {
   "cell_type": "markdown",
   "metadata": {},
   "source": [
    "####  PCA with `Energy Supply per Capita` ,  `% Renewable` and  `GDP`"
   ]
  },
  {
   "cell_type": "code",
   "execution_count": 268,
   "metadata": {},
   "outputs": [
    {
     "data": {
      "text/plain": [
       "0.5147143579923101"
      ]
     },
     "execution_count": 268,
     "metadata": {},
     "output_type": "execute_result"
    }
   ],
   "source": [
    "Coef_combined_feature(df2013[['% Renewable', 'Energy Supply per Capita', 'GDP']])"
   ]
  },
  {
   "cell_type": "markdown",
   "metadata": {},
   "source": [
    "The coef increases. `GDP` does bring more information. Even if it is not that correlated with the final target `Documents per Capita`(0.1), its information is not included in both `% Renewable` and `Energy Supply per Capita` as shown in the correlation matrix above.\n",
    "\n",
    "We will add up now `GDP per Capita` which has a coef of 0.83 with `Documents per Capita`.\n",
    "\n",
    "####  PCA with `Energy Supply per Capita` ,  `% Renewable`,  `GDP` and `GDP per Capita`\n"
   ]
  },
  {
   "cell_type": "code",
   "execution_count": 271,
   "metadata": {},
   "outputs": [
    {
     "data": {
      "text/plain": [
       "0.7372087642605165"
      ]
     },
     "execution_count": 271,
     "metadata": {},
     "output_type": "execute_result"
    }
   ],
   "source": [
    "Coef_combined_feature(df2013[['% Renewable', 'Energy Supply per Capita', 'GDP', 'GDP per capita']])"
   ]
  },
  {
   "cell_type": "markdown",
   "metadata": {},
   "source": [
    "The coef is better than the previous one but worse than `GDP per Capita` which was individually at 0.83 with `Documents per Capita`.\n",
    "It makes senses as `GDP per Capita` is quite corelated with others indicators (0.52 with `Energy Supply per Capita` !!). \n",
    "**There is a redundancy of information**, thus the overall coefficient gets affected.\n",
    "In this case, it will be better to just keep `GDP per Capita` as the only predictor instead.\n",
    "\n",
    "\n",
    "What if we decide to seek the direction such that when the data points are projected on it, the correlation is maximized?\n",
    "To do so , let's perform the **Canonical Correlation Analysis (CCA)**."
   ]
  },
  {
   "cell_type": "code",
   "execution_count": 273,
   "metadata": {},
   "outputs": [
    {
     "name": "stdout",
     "output_type": "stream",
     "text": [
      "Coefficient with CCA :  0.8455082130356664\n"
     ]
    }
   ],
   "source": [
    "# Finding the right direction with CCA\n",
    "cca = CCA(n_components=1).fit(df2013[['% Renewable', 'Energy Supply per Capita', 'GDP', 'GDP per capita']],\n",
    "                              df2013['Documents per Capita'])\n",
    "\n",
    "# Our new feature\n",
    "EnergyXRen2, _ = cca.transform(df2013[['% Renewable', 'Energy Supply per Capita', 'GDP', 'GDP per capita']],\n",
    "                               df2013['Documents per Capita'])\n",
    "\n",
    "#Let's print its correlation with \"Documents per Capita\"\n",
    "print('Coefficient with CCA : ',pearsonr(EnergyXRen2.reshape(len(EnergyXRen2)), df2013['Documents per Capita'])[0])\n"
   ]
  },
  {
   "cell_type": "markdown",
   "metadata": {},
   "source": [
    "Nice! Quite better than `GDP per Capita` individually. It is explainable because CCA is able to give a 0 weight to features than are irrelevant while looking for optimal direction.\n"
   ]
  },
  {
   "cell_type": "code",
   "execution_count": 285,
   "metadata": {},
   "outputs": [
    {
     "name": "stdout",
     "output_type": "stream",
     "text": [
      "CCA weights :  [('% Renewable', 0.16711527044702618), ('Energy Supply per Capita', -0.052658802681366586), ('GDP', -0.06660929612860782), ('GDP per capita', 0.982274268497772)]\n"
     ]
    }
   ],
   "source": [
    "print('CCA weights : ', list(zip(['% Renewable', 'Energy Supply per Capita', 'GDP', 'GDP per capita'],\n",
    "                                 cca.x_weights_[:, 0])))"
   ]
  },
  {
   "cell_type": "markdown",
   "metadata": {},
   "source": [
    "`GDP per Capita` has indeed the highest weight and features too correlated with him have weights close to zero."
   ]
  }
 ],
 "metadata": {
  "kernelspec": {
   "display_name": "Python 3",
   "language": "python",
   "name": "python3"
  },
  "language_info": {
   "codemirror_mode": {
    "name": "ipython",
    "version": 3
   },
   "file_extension": ".py",
   "mimetype": "text/x-python",
   "name": "python",
   "nbconvert_exporter": "python",
   "pygments_lexer": "ipython3",
   "version": "3.8.5"
  }
 },
 "nbformat": 4,
 "nbformat_minor": 4
}
